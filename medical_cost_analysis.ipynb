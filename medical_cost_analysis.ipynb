{
 "cells": [
  {
   "cell_type": "markdown",
   "id": "9b0bb04a",
   "metadata": {},
   "source": [
    "# Global Al Hub - Aygaz Machine Learning Bootcamp Final Project\n",
    "\n",
    "##### Medical Cost Personal Dataset Multivariate Regression Analysis\n",
    "\n",
    "This project aims to analyse and predict medical expenses based on age, sex, bmi, children, smoker and region datas.\n",
    "\n",
    "##### Dataset\n",
    "https://www.kaggle.com/datasets/mirichoi0218/insurance"
   ]
  },
  {
   "cell_type": "markdown",
   "id": "fe7d8993",
   "metadata": {},
   "source": [
    "# Importing Required Libraries"
   ]
  },
  {
   "cell_type": "code",
   "execution_count": 112,
   "id": "99ad0450",
   "metadata": {},
   "outputs": [],
   "source": [
    "import math\n",
    "import numpy as np\n",
    "import pandas as pd\n",
    "import seaborn as sns\n",
    "import matplotlib.pyplot as plt\n",
    "\n",
    "# Import Label Encoder and train_test_split, gridsearchcv\n",
    "from sklearn.preprocessing import LabelEncoder\n",
    "from sklearn.model_selection import train_test_split\n",
    "from sklearn.model_selection import GridSearchCV, cross_val_score\n",
    "\n",
    "# for min_max scaling\n",
    "from sklearn.preprocessing import MinMaxScaler\n",
    "\n",
    "# Import models\n",
    "from sklearn.linear_model import LinearRegression, Ridge, Lasso, ElasticNet\n",
    "from sklearn.tree import DecisionTreeRegressor\n",
    "from sklearn.ensemble import RandomForestRegressor\n",
    "from sklearn.svm import SVR\n",
    "\n",
    "# Import metrics\n",
    "from sklearn.metrics import mean_squared_error, mean_absolute_error, r2_score"
   ]
  },
  {
   "cell_type": "code",
   "execution_count": 2,
   "id": "31859832",
   "metadata": {},
   "outputs": [],
   "source": [
    "sns.set_theme()"
   ]
  },
  {
   "cell_type": "code",
   "execution_count": 3,
   "id": "3adefab3",
   "metadata": {},
   "outputs": [
    {
     "data": {
      "text/html": [
       "<div>\n",
       "<style scoped>\n",
       "    .dataframe tbody tr th:only-of-type {\n",
       "        vertical-align: middle;\n",
       "    }\n",
       "\n",
       "    .dataframe tbody tr th {\n",
       "        vertical-align: top;\n",
       "    }\n",
       "\n",
       "    .dataframe thead th {\n",
       "        text-align: right;\n",
       "    }\n",
       "</style>\n",
       "<table border=\"1\" class=\"dataframe\">\n",
       "  <thead>\n",
       "    <tr style=\"text-align: right;\">\n",
       "      <th></th>\n",
       "      <th>age</th>\n",
       "      <th>sex</th>\n",
       "      <th>bmi</th>\n",
       "      <th>children</th>\n",
       "      <th>smoker</th>\n",
       "      <th>region</th>\n",
       "      <th>charges</th>\n",
       "    </tr>\n",
       "  </thead>\n",
       "  <tbody>\n",
       "    <tr>\n",
       "      <th>0</th>\n",
       "      <td>19</td>\n",
       "      <td>female</td>\n",
       "      <td>27.900</td>\n",
       "      <td>0</td>\n",
       "      <td>yes</td>\n",
       "      <td>southwest</td>\n",
       "      <td>16884.92400</td>\n",
       "    </tr>\n",
       "    <tr>\n",
       "      <th>1</th>\n",
       "      <td>18</td>\n",
       "      <td>male</td>\n",
       "      <td>33.770</td>\n",
       "      <td>1</td>\n",
       "      <td>no</td>\n",
       "      <td>southeast</td>\n",
       "      <td>1725.55230</td>\n",
       "    </tr>\n",
       "    <tr>\n",
       "      <th>2</th>\n",
       "      <td>28</td>\n",
       "      <td>male</td>\n",
       "      <td>33.000</td>\n",
       "      <td>3</td>\n",
       "      <td>no</td>\n",
       "      <td>southeast</td>\n",
       "      <td>4449.46200</td>\n",
       "    </tr>\n",
       "    <tr>\n",
       "      <th>3</th>\n",
       "      <td>33</td>\n",
       "      <td>male</td>\n",
       "      <td>22.705</td>\n",
       "      <td>0</td>\n",
       "      <td>no</td>\n",
       "      <td>northwest</td>\n",
       "      <td>21984.47061</td>\n",
       "    </tr>\n",
       "    <tr>\n",
       "      <th>4</th>\n",
       "      <td>32</td>\n",
       "      <td>male</td>\n",
       "      <td>28.880</td>\n",
       "      <td>0</td>\n",
       "      <td>no</td>\n",
       "      <td>northwest</td>\n",
       "      <td>3866.85520</td>\n",
       "    </tr>\n",
       "  </tbody>\n",
       "</table>\n",
       "</div>"
      ],
      "text/plain": [
       "   age     sex     bmi  children smoker     region      charges\n",
       "0   19  female  27.900         0    yes  southwest  16884.92400\n",
       "1   18    male  33.770         1     no  southeast   1725.55230\n",
       "2   28    male  33.000         3     no  southeast   4449.46200\n",
       "3   33    male  22.705         0     no  northwest  21984.47061\n",
       "4   32    male  28.880         0     no  northwest   3866.85520"
      ]
     },
     "execution_count": 3,
     "metadata": {},
     "output_type": "execute_result"
    }
   ],
   "source": [
    "# Load data\n",
    "data = pd.read_csv(\"https://raw.githubusercontent.com/stedy/Machine-Learning-with-R-datasets/master/insurance.csv\")\n",
    "df = data.copy()\n",
    "df.head()"
   ]
  },
  {
   "cell_type": "code",
   "execution_count": 4,
   "id": "01fe6f0a",
   "metadata": {},
   "outputs": [
    {
     "data": {
      "text/plain": [
       "(1338, 7)"
      ]
     },
     "execution_count": 4,
     "metadata": {},
     "output_type": "execute_result"
    }
   ],
   "source": [
    "df.shape"
   ]
  },
  {
   "cell_type": "code",
   "execution_count": 5,
   "id": "0117e51e",
   "metadata": {},
   "outputs": [
    {
     "name": "stdout",
     "output_type": "stream",
     "text": [
      "<class 'pandas.core.frame.DataFrame'>\n",
      "RangeIndex: 1338 entries, 0 to 1337\n",
      "Data columns (total 7 columns):\n",
      " #   Column    Non-Null Count  Dtype  \n",
      "---  ------    --------------  -----  \n",
      " 0   age       1338 non-null   int64  \n",
      " 1   sex       1338 non-null   object \n",
      " 2   bmi       1338 non-null   float64\n",
      " 3   children  1338 non-null   int64  \n",
      " 4   smoker    1338 non-null   object \n",
      " 5   region    1338 non-null   object \n",
      " 6   charges   1338 non-null   float64\n",
      "dtypes: float64(2), int64(2), object(3)\n",
      "memory usage: 73.3+ KB\n"
     ]
    }
   ],
   "source": [
    "df.info()"
   ]
  },
  {
   "cell_type": "code",
   "execution_count": 45,
   "id": "4926410e",
   "metadata": {},
   "outputs": [
    {
     "data": {
      "text/plain": [
       "age         0\n",
       "sex         0\n",
       "bmi         0\n",
       "children    0\n",
       "smoker      0\n",
       "region      0\n",
       "charges     0\n",
       "dtype: int64"
      ]
     },
     "execution_count": 45,
     "metadata": {},
     "output_type": "execute_result"
    }
   ],
   "source": [
    "df.isna().sum()"
   ]
  },
  {
   "cell_type": "code",
   "execution_count": 6,
   "id": "b5c9213f",
   "metadata": {},
   "outputs": [
    {
     "name": "stdout",
     "output_type": "stream",
     "text": [
      "<class 'pandas.core.frame.DataFrame'>\n",
      "RangeIndex: 1338 entries, 0 to 1337\n",
      "Data columns (total 7 columns):\n",
      " #   Column    Non-Null Count  Dtype   \n",
      "---  ------    --------------  -----   \n",
      " 0   age       1338 non-null   int64   \n",
      " 1   sex       1338 non-null   category\n",
      " 2   bmi       1338 non-null   float64 \n",
      " 3   children  1338 non-null   int64   \n",
      " 4   smoker    1338 non-null   category\n",
      " 5   region    1338 non-null   category\n",
      " 6   charges   1338 non-null   float64 \n",
      "dtypes: category(3), float64(2), int64(2)\n",
      "memory usage: 46.3 KB\n"
     ]
    }
   ],
   "source": [
    "# Convert object columns to categorical to get advantage for memory usage, performance and better semantics.\n",
    "df[[\"sex\", \"smoker\", \"region\"]]=df[[\"sex\", \"smoker\", \"region\"]].astype(\"category\")\n",
    "df.info()"
   ]
  },
  {
   "cell_type": "code",
   "execution_count": 7,
   "id": "4c05afea",
   "metadata": {},
   "outputs": [
    {
     "data": {
      "text/html": [
       "<div>\n",
       "<style scoped>\n",
       "    .dataframe tbody tr th:only-of-type {\n",
       "        vertical-align: middle;\n",
       "    }\n",
       "\n",
       "    .dataframe tbody tr th {\n",
       "        vertical-align: top;\n",
       "    }\n",
       "\n",
       "    .dataframe thead th {\n",
       "        text-align: right;\n",
       "    }\n",
       "</style>\n",
       "<table border=\"1\" class=\"dataframe\">\n",
       "  <thead>\n",
       "    <tr style=\"text-align: right;\">\n",
       "      <th></th>\n",
       "      <th>age</th>\n",
       "      <th>bmi</th>\n",
       "      <th>children</th>\n",
       "      <th>charges</th>\n",
       "    </tr>\n",
       "  </thead>\n",
       "  <tbody>\n",
       "    <tr>\n",
       "      <th>count</th>\n",
       "      <td>1338.000000</td>\n",
       "      <td>1338.000000</td>\n",
       "      <td>1338.000000</td>\n",
       "      <td>1338.000000</td>\n",
       "    </tr>\n",
       "    <tr>\n",
       "      <th>mean</th>\n",
       "      <td>39.207025</td>\n",
       "      <td>30.663397</td>\n",
       "      <td>1.094918</td>\n",
       "      <td>13270.422265</td>\n",
       "    </tr>\n",
       "    <tr>\n",
       "      <th>std</th>\n",
       "      <td>14.049960</td>\n",
       "      <td>6.098187</td>\n",
       "      <td>1.205493</td>\n",
       "      <td>12110.011237</td>\n",
       "    </tr>\n",
       "    <tr>\n",
       "      <th>min</th>\n",
       "      <td>18.000000</td>\n",
       "      <td>15.960000</td>\n",
       "      <td>0.000000</td>\n",
       "      <td>1121.873900</td>\n",
       "    </tr>\n",
       "    <tr>\n",
       "      <th>25%</th>\n",
       "      <td>27.000000</td>\n",
       "      <td>26.296250</td>\n",
       "      <td>0.000000</td>\n",
       "      <td>4740.287150</td>\n",
       "    </tr>\n",
       "    <tr>\n",
       "      <th>50%</th>\n",
       "      <td>39.000000</td>\n",
       "      <td>30.400000</td>\n",
       "      <td>1.000000</td>\n",
       "      <td>9382.033000</td>\n",
       "    </tr>\n",
       "    <tr>\n",
       "      <th>75%</th>\n",
       "      <td>51.000000</td>\n",
       "      <td>34.693750</td>\n",
       "      <td>2.000000</td>\n",
       "      <td>16639.912515</td>\n",
       "    </tr>\n",
       "    <tr>\n",
       "      <th>max</th>\n",
       "      <td>64.000000</td>\n",
       "      <td>53.130000</td>\n",
       "      <td>5.000000</td>\n",
       "      <td>63770.428010</td>\n",
       "    </tr>\n",
       "  </tbody>\n",
       "</table>\n",
       "</div>"
      ],
      "text/plain": [
       "               age          bmi     children       charges\n",
       "count  1338.000000  1338.000000  1338.000000   1338.000000\n",
       "mean     39.207025    30.663397     1.094918  13270.422265\n",
       "std      14.049960     6.098187     1.205493  12110.011237\n",
       "min      18.000000    15.960000     0.000000   1121.873900\n",
       "25%      27.000000    26.296250     0.000000   4740.287150\n",
       "50%      39.000000    30.400000     1.000000   9382.033000\n",
       "75%      51.000000    34.693750     2.000000  16639.912515\n",
       "max      64.000000    53.130000     5.000000  63770.428010"
      ]
     },
     "execution_count": 7,
     "metadata": {},
     "output_type": "execute_result"
    }
   ],
   "source": [
    "df.describe()"
   ]
  },
  {
   "cell_type": "markdown",
   "id": "dcaac99d",
   "metadata": {},
   "source": [
    "# Exploratory Data Analysis"
   ]
  },
  {
   "cell_type": "code",
   "execution_count": 8,
   "id": "7de31044",
   "metadata": {},
   "outputs": [
    {
     "data": {
      "text/plain": [
       "array([19, 18, 28, 33, 32, 31, 46, 37, 60, 25, 62, 23, 56, 27, 52, 30, 34,\n",
       "       59, 63, 55, 22, 26, 35, 24, 41, 38, 36, 21, 48, 40, 58, 53, 43, 64,\n",
       "       20, 61, 44, 57, 29, 45, 54, 49, 47, 51, 42, 50, 39], dtype=int64)"
      ]
     },
     "execution_count": 8,
     "metadata": {},
     "output_type": "execute_result"
    }
   ],
   "source": [
    "# Checking unique values\n",
    "df[\"age\"].unique()"
   ]
  },
  {
   "cell_type": "code",
   "execution_count": 9,
   "id": "2e08a692",
   "metadata": {},
   "outputs": [
    {
     "data": {
      "text/plain": [
       "['female', 'male']\n",
       "Categories (2, object): ['female', 'male']"
      ]
     },
     "execution_count": 9,
     "metadata": {},
     "output_type": "execute_result"
    }
   ],
   "source": [
    "df[\"sex\"].unique()"
   ]
  },
  {
   "cell_type": "code",
   "execution_count": 10,
   "id": "05ceb87d",
   "metadata": {},
   "outputs": [
    {
     "data": {
      "text/plain": [
       "array([0, 1, 3, 2, 5, 4], dtype=int64)"
      ]
     },
     "execution_count": 10,
     "metadata": {},
     "output_type": "execute_result"
    }
   ],
   "source": [
    "df[\"children\"].unique()"
   ]
  },
  {
   "cell_type": "code",
   "execution_count": 11,
   "id": "b996ab2b",
   "metadata": {},
   "outputs": [
    {
     "data": {
      "text/plain": [
       "['yes', 'no']\n",
       "Categories (2, object): ['no', 'yes']"
      ]
     },
     "execution_count": 11,
     "metadata": {},
     "output_type": "execute_result"
    }
   ],
   "source": [
    "df[\"smoker\"].unique()"
   ]
  },
  {
   "cell_type": "code",
   "execution_count": 12,
   "id": "25216141",
   "metadata": {},
   "outputs": [
    {
     "data": {
      "text/plain": [
       "['southwest', 'southeast', 'northwest', 'northeast']\n",
       "Categories (4, object): ['northeast', 'northwest', 'southeast', 'southwest']"
      ]
     },
     "execution_count": 12,
     "metadata": {},
     "output_type": "execute_result"
    }
   ],
   "source": [
    "df[\"region\"].unique()"
   ]
  },
  {
   "cell_type": "markdown",
   "id": "3f73d8f8",
   "metadata": {},
   "source": [
    "### Examine the distribution of Bmi (Body Mass Index)"
   ]
  },
  {
   "cell_type": "code",
   "execution_count": 13,
   "id": "6019e9c0",
   "metadata": {},
   "outputs": [
    {
     "data": {
      "text/plain": [
       "<Axes: xlabel='bmi', ylabel='Count'>"
      ]
     },
     "execution_count": 13,
     "metadata": {},
     "output_type": "execute_result"
    },
    {
     "data": {
      "image/png": "[encoded data removed]",
      "text/plain": [
       "<Figure size 640x480 with 1 Axes>"
      ]
     },
     "metadata": {},
     "output_type": "display_data"
    }
   ],
   "source": [
    "sns.histplot(data=df[\"bmi\"], kde=False, color=\"blue\" )"
   ]
  },
  {
   "cell_type": "markdown",
   "id": "700b3e20",
   "metadata": {},
   "source": [
    "Most of people have 30 BMI which is in the obese category."
   ]
  },
  {
   "cell_type": "markdown",
   "id": "3769582f",
   "metadata": {},
   "source": [
    "### Is there an outlier in the \"bmi\" variable? Please review.\n"
   ]
  },
  {
   "cell_type": "markdown",
   "id": "6dd0346e",
   "metadata": {},
   "source": [
    "| Category    | BMI (kg/m2) |\n",
    "| -------- | ------- |\n",
    "| Underweight  | < 18.5 |\n",
    "| Normal weight | 18.5 – 24.9     |\n",
    "| Overweight    | 25.0 – 29.9    |\n",
    "| Obese (Class I)    | 30.0 – 34.9   |\n",
    "| Obese (Class II)    | 35.0 – 39.9   |\n",
    "| Obese (Class III)    | 40.0-49.9    |\n",
    "| Obese (Class IV)    | >50.0 |\n",
    "\n",
    "According to the World Health Organization (WHO) BMI chart, there are no outliers."
   ]
  },
  {
   "cell_type": "markdown",
   "id": "922aff8a",
   "metadata": {},
   "source": [
    "### Examine the relationship between “smoker” and “charges”"
   ]
  },
  {
   "cell_type": "code",
   "execution_count": 14,
   "id": "73fef6fb",
   "metadata": {},
   "outputs": [
    {
     "data": {
      "text/plain": [
       "<seaborn.axisgrid.FacetGrid at 0x1ba19dab0d0>"
      ]
     },
     "execution_count": 14,
     "metadata": {},
     "output_type": "execute_result"
    },
    {
     "data": {
      "image/png": "[encoded data removed]",
      "text/plain": [
       "<Figure size 578.875x500 with 1 Axes>"
      ]
     },
     "metadata": {},
     "output_type": "display_data"
    }
   ],
   "source": [
    "sns.displot(data=df, x=df[\"charges\"], hue=\"smoker\")"
   ]
  },
  {
   "cell_type": "markdown",
   "id": "8e089a02",
   "metadata": {},
   "source": [
    "As we see in the chart, non smoker people are charging less than smoker ones."
   ]
  },
  {
   "cell_type": "markdown",
   "id": "03d9a897",
   "metadata": {},
   "source": [
    "### Examine the relationship between “smoker” and “region”."
   ]
  },
  {
   "cell_type": "code",
   "execution_count": 15,
   "id": "ac9ebf72",
   "metadata": {},
   "outputs": [
    {
     "data": {
      "text/plain": [
       "<seaborn.axisgrid.FacetGrid at 0x1ba19d8f1d0>"
      ]
     },
     "execution_count": 15,
     "metadata": {},
     "output_type": "execute_result"
    },
    {
     "data": {
      "image/png": "[encoded data removed]",
      "text/plain": [
       "<Figure size 578.875x500 with 1 Axes>"
      ]
     },
     "metadata": {},
     "output_type": "display_data"
    }
   ],
   "source": [
    "sns.displot(data=df, x=df[\"region\"], hue=\"smoker\")"
   ]
  },
  {
   "cell_type": "markdown",
   "id": "e7f22664",
   "metadata": {},
   "source": [
    "There is no evident difference with distrubiton among non smoker people but most of smoker people are in southeast."
   ]
  },
  {
   "cell_type": "markdown",
   "id": "6450832b",
   "metadata": {},
   "source": [
    "### Examine the relationship between “bmi” and “sex”"
   ]
  },
  {
   "cell_type": "code",
   "execution_count": 16,
   "id": "fb23f0b7",
   "metadata": {},
   "outputs": [
    {
     "data": {
      "text/plain": [
       "<seaborn.axisgrid.FacetGrid at 0x1ba19f35810>"
      ]
     },
     "execution_count": 16,
     "metadata": {},
     "output_type": "execute_result"
    },
    {
     "data": {
      "image/png": "[encoded data removed]",
      "text/plain": [
       "<Figure size 600.875x500 with 1 Axes>"
      ]
     },
     "metadata": {},
     "output_type": "display_data"
    }
   ],
   "source": [
    "sns.displot(data=df, x=df[\"bmi\"], hue=\"sex\", palette={'female': 'pink', 'male': 'blue'})"
   ]
  },
  {
   "cell_type": "markdown",
   "id": "dbe49ddf",
   "metadata": {},
   "source": [
    "For obese category which is 30+ BMI, males are more than females."
   ]
  },
  {
   "cell_type": "markdown",
   "id": "b0eea5f9",
   "metadata": {},
   "source": [
    "### Find the \"region\" with the most \"children\"."
   ]
  },
  {
   "cell_type": "code",
   "execution_count": 17,
   "id": "dd640718",
   "metadata": {},
   "outputs": [
    {
     "data": {
      "text/html": [
       "<div>\n",
       "<style scoped>\n",
       "    .dataframe tbody tr th:only-of-type {\n",
       "        vertical-align: middle;\n",
       "    }\n",
       "\n",
       "    .dataframe tbody tr th {\n",
       "        vertical-align: top;\n",
       "    }\n",
       "\n",
       "    .dataframe thead th {\n",
       "        text-align: right;\n",
       "    }\n",
       "</style>\n",
       "<table border=\"1\" class=\"dataframe\">\n",
       "  <thead>\n",
       "    <tr style=\"text-align: right;\">\n",
       "      <th></th>\n",
       "      <th>children</th>\n",
       "    </tr>\n",
       "    <tr>\n",
       "      <th>region</th>\n",
       "      <th></th>\n",
       "    </tr>\n",
       "  </thead>\n",
       "  <tbody>\n",
       "    <tr>\n",
       "      <th>northeast</th>\n",
       "      <td>324</td>\n",
       "    </tr>\n",
       "    <tr>\n",
       "      <th>northwest</th>\n",
       "      <td>325</td>\n",
       "    </tr>\n",
       "    <tr>\n",
       "      <th>southeast</th>\n",
       "      <td>364</td>\n",
       "    </tr>\n",
       "    <tr>\n",
       "      <th>southwest</th>\n",
       "      <td>325</td>\n",
       "    </tr>\n",
       "  </tbody>\n",
       "</table>\n",
       "</div>"
      ],
      "text/plain": [
       "           children\n",
       "region             \n",
       "northeast       324\n",
       "northwest       325\n",
       "southeast       364\n",
       "southwest       325"
      ]
     },
     "execution_count": 17,
     "metadata": {},
     "output_type": "execute_result"
    }
   ],
   "source": [
    "df[[\"region\", \"children\"]].groupby([\"region\"]).count()"
   ]
  },
  {
   "cell_type": "markdown",
   "id": "fdc613e1",
   "metadata": {},
   "source": [
    "Most children are in the southeast region."
   ]
  },
  {
   "cell_type": "markdown",
   "id": "192d781f",
   "metadata": {},
   "source": [
    "### Examine the relationship between “age” and “bmi”."
   ]
  },
  {
   "cell_type": "code",
   "execution_count": 18,
   "id": "d48e9aa3",
   "metadata": {},
   "outputs": [],
   "source": [
    "grouped_bmi=pd.cut(x=df[\"bmi\"], bins=[0,18,25,30,60], labels=[\"Underweight (0-18)\",\"Healthy Weight (18-25)\", \n",
    "                                                               \"Overweight (25-30)\",\"Obesity (30+)\"])"
   ]
  },
  {
   "cell_type": "code",
   "execution_count": 19,
   "id": "189d97f5",
   "metadata": {},
   "outputs": [
    {
     "data": {
      "image/png": "[encoded data removed]",
      "text/plain": [
       "<Figure size 800x600 with 1 Axes>"
      ]
     },
     "metadata": {},
     "output_type": "display_data"
    }
   ],
   "source": [
    "plt.figure(figsize=(8, 6))\n",
    "ax=sns.barplot(data=df, x=grouped_bmi, y=\"age\")"
   ]
  },
  {
   "cell_type": "markdown",
   "id": "af169704",
   "metadata": {},
   "source": [
    "There is a positive correlation between weight gaining and aging."
   ]
  },
  {
   "cell_type": "markdown",
   "id": "4e3643e0",
   "metadata": {},
   "source": [
    "### Examine the relationship between “bmi” and “children”."
   ]
  },
  {
   "cell_type": "code",
   "execution_count": 20,
   "id": "441430f0",
   "metadata": {},
   "outputs": [
    {
     "data": {
      "image/png": "[encoded data removed]",
      "text/plain": [
       "<Figure size 1000x600 with 1 Axes>"
      ]
     },
     "metadata": {},
     "output_type": "display_data"
    }
   ],
   "source": [
    "plt.figure(figsize=(10, 6))\n",
    "ax=sns.countplot(data=df, x=grouped_bmi, hue=\"children\")"
   ]
  },
  {
   "cell_type": "markdown",
   "id": "f5563e4c",
   "metadata": {},
   "source": [
    "Underweight and most obese category people do not have children, most people with 1,2 and 3 children are in obese category "
   ]
  },
  {
   "cell_type": "markdown",
   "id": "8620cd35",
   "metadata": {},
   "source": [
    "### Examine the relationship between “bmi” and “charges”"
   ]
  },
  {
   "cell_type": "code",
   "execution_count": 21,
   "id": "a0c5e505",
   "metadata": {},
   "outputs": [
    {
     "data": {
      "image/png": "[encoded data removed]",
      "text/plain": [
       "<Figure size 800x600 with 1 Axes>"
      ]
     },
     "metadata": {},
     "output_type": "display_data"
    }
   ],
   "source": [
    "plt.figure(figsize=(8, 6))\n",
    "ax=sns.barplot(data=df, x=grouped_bmi, y=\"charges\")"
   ]
  },
  {
   "cell_type": "markdown",
   "id": "6ccaeb82",
   "metadata": {},
   "source": [
    "People in obese category are charging more than other categories"
   ]
  },
  {
   "cell_type": "markdown",
   "id": "3b6c8cbf",
   "metadata": {},
   "source": [
    "### Examine the relationship between “region”, “smoker” and “bmi” using bar plot"
   ]
  },
  {
   "cell_type": "code",
   "execution_count": 22,
   "id": "e9bdded2",
   "metadata": {},
   "outputs": [],
   "source": [
    "region_mapping = {'northeast': 1, 'northwest': 2, 'southeast': 3, 'southwest': 4}\n",
    "copy_df=df.copy()\n",
    "mapped= df['region'].map(region_mapping)\n",
    "copy_df[\"region\"]=mapped\n",
    "copy_df[\"region\"]=copy_df[\"region\"].astype(\"int64\")"
   ]
  },
  {
   "cell_type": "code",
   "execution_count": 73,
   "id": "9016e2cd",
   "metadata": {},
   "outputs": [
    {
     "data": {
      "text/plain": [
       "[Text(0, 1, 'northeast'),\n",
       " Text(0, 2, 'northwest'),\n",
       " Text(0, 3, 'southeast'),\n",
       " Text(0, 4, 'southwest')]"
      ]
     },
     "execution_count": 73,
     "metadata": {},
     "output_type": "execute_result"
    },
    {
     "data": {
      "image/png": "[encoded data removed]",
      "text/plain": [
       "<Figure size 800x600 with 1 Axes>"
      ]
     },
     "metadata": {},
     "output_type": "display_data"
    }
   ],
   "source": [
    "plt.figure(figsize=(8, 6))\n",
    "ax=sns.barplot(data=copy_df, x=grouped_bmi, y=\"region\", hue=\"smoker\")\n",
    "ax.set_yticks(range(1,5))\n",
    "ax.set_yticklabels(region_mapping)"
   ]
  },
  {
   "cell_type": "markdown",
   "id": "f4494f35",
   "metadata": {},
   "source": [
    "Most people are in the northwest region."
   ]
  },
  {
   "cell_type": "markdown",
   "id": "07c4c095",
   "metadata": {},
   "source": [
    "### Relationship between “age”, “smoker” and “sex”"
   ]
  },
  {
   "cell_type": "code",
   "execution_count": 24,
   "id": "9ae9d161",
   "metadata": {},
   "outputs": [],
   "source": [
    "grouped_age=pd.cut(x=df[\"age\"], bins=[0,30,40,50,100], labels=[\"Young (0-30)\",\"Adult (30-40)\", \n",
    "                                                               \"Middle Aged (40-50)\",\"Old (50+)\"])"
   ]
  },
  {
   "cell_type": "code",
   "execution_count": 25,
   "id": "1df10590",
   "metadata": {},
   "outputs": [
    {
     "data": {
      "text/html": [
       "<div>\n",
       "<style scoped>\n",
       "    .dataframe tbody tr th:only-of-type {\n",
       "        vertical-align: middle;\n",
       "    }\n",
       "\n",
       "    .dataframe tbody tr th {\n",
       "        vertical-align: top;\n",
       "    }\n",
       "\n",
       "    .dataframe thead th {\n",
       "        text-align: right;\n",
       "    }\n",
       "</style>\n",
       "<table border=\"1\" class=\"dataframe\">\n",
       "  <thead>\n",
       "    <tr style=\"text-align: right;\">\n",
       "      <th>sex</th>\n",
       "      <th>female</th>\n",
       "      <th>male</th>\n",
       "    </tr>\n",
       "    <tr>\n",
       "      <th>age</th>\n",
       "      <th></th>\n",
       "      <th></th>\n",
       "    </tr>\n",
       "  </thead>\n",
       "  <tbody>\n",
       "    <tr>\n",
       "      <th>Young (0-30)</th>\n",
       "      <td>214</td>\n",
       "      <td>230</td>\n",
       "    </tr>\n",
       "    <tr>\n",
       "      <th>Adult (30-40)</th>\n",
       "      <td>127</td>\n",
       "      <td>130</td>\n",
       "    </tr>\n",
       "    <tr>\n",
       "      <th>Middle Aged (40-50)</th>\n",
       "      <td>140</td>\n",
       "      <td>141</td>\n",
       "    </tr>\n",
       "    <tr>\n",
       "      <th>Old (50+)</th>\n",
       "      <td>181</td>\n",
       "      <td>175</td>\n",
       "    </tr>\n",
       "  </tbody>\n",
       "</table>\n",
       "</div>"
      ],
      "text/plain": [
       "sex                  female  male\n",
       "age                              \n",
       "Young (0-30)            214   230\n",
       "Adult (30-40)           127   130\n",
       "Middle Aged (40-50)     140   141\n",
       "Old (50+)               181   175"
      ]
     },
     "execution_count": 25,
     "metadata": {},
     "output_type": "execute_result"
    }
   ],
   "source": [
    "df[[\"age\", \"sex\"]].pivot_table(values=\"age\", index=grouped_age, columns=[\"sex\"], aggfunc=\"count\")"
   ]
  },
  {
   "cell_type": "code",
   "execution_count": 26,
   "id": "2910aba3",
   "metadata": {},
   "outputs": [
    {
     "data": {
      "text/html": [
       "<div>\n",
       "<style scoped>\n",
       "    .dataframe tbody tr th:only-of-type {\n",
       "        vertical-align: middle;\n",
       "    }\n",
       "\n",
       "    .dataframe tbody tr th {\n",
       "        vertical-align: top;\n",
       "    }\n",
       "\n",
       "    .dataframe thead tr th {\n",
       "        text-align: left;\n",
       "    }\n",
       "\n",
       "    .dataframe thead tr:last-of-type th {\n",
       "        text-align: right;\n",
       "    }\n",
       "</style>\n",
       "<table border=\"1\" class=\"dataframe\">\n",
       "  <thead>\n",
       "    <tr>\n",
       "      <th></th>\n",
       "      <th></th>\n",
       "      <th colspan=\"2\" halign=\"left\">age</th>\n",
       "    </tr>\n",
       "    <tr>\n",
       "      <th></th>\n",
       "      <th>smoker</th>\n",
       "      <th>no</th>\n",
       "      <th>yes</th>\n",
       "    </tr>\n",
       "    <tr>\n",
       "      <th>age</th>\n",
       "      <th>sex</th>\n",
       "      <th></th>\n",
       "      <th></th>\n",
       "    </tr>\n",
       "  </thead>\n",
       "  <tbody>\n",
       "    <tr>\n",
       "      <th rowspan=\"2\" valign=\"top\">Young (0-30)</th>\n",
       "      <th>female</th>\n",
       "      <td>174</td>\n",
       "      <td>40</td>\n",
       "    </tr>\n",
       "    <tr>\n",
       "      <th>male</th>\n",
       "      <td>175</td>\n",
       "      <td>55</td>\n",
       "    </tr>\n",
       "    <tr>\n",
       "      <th rowspan=\"2\" valign=\"top\">Adult (30-40)</th>\n",
       "      <th>female</th>\n",
       "      <td>105</td>\n",
       "      <td>22</td>\n",
       "    </tr>\n",
       "    <tr>\n",
       "      <th>male</th>\n",
       "      <td>98</td>\n",
       "      <td>32</td>\n",
       "    </tr>\n",
       "    <tr>\n",
       "      <th rowspan=\"2\" valign=\"top\">Middle Aged (40-50)</th>\n",
       "      <th>female</th>\n",
       "      <td>114</td>\n",
       "      <td>26</td>\n",
       "    </tr>\n",
       "    <tr>\n",
       "      <th>male</th>\n",
       "      <td>106</td>\n",
       "      <td>35</td>\n",
       "    </tr>\n",
       "    <tr>\n",
       "      <th rowspan=\"2\" valign=\"top\">Old (50+)</th>\n",
       "      <th>female</th>\n",
       "      <td>154</td>\n",
       "      <td>27</td>\n",
       "    </tr>\n",
       "    <tr>\n",
       "      <th>male</th>\n",
       "      <td>138</td>\n",
       "      <td>37</td>\n",
       "    </tr>\n",
       "  </tbody>\n",
       "</table>\n",
       "</div>"
      ],
      "text/plain": [
       "                            age    \n",
       "smoker                       no yes\n",
       "age                 sex            \n",
       "Young (0-30)        female  174  40\n",
       "                    male    175  55\n",
       "Adult (30-40)       female  105  22\n",
       "                    male     98  32\n",
       "Middle Aged (40-50) female  114  26\n",
       "                    male    106  35\n",
       "Old (50+)           female  154  27\n",
       "                    male    138  37"
      ]
     },
     "execution_count": 26,
     "metadata": {},
     "output_type": "execute_result"
    }
   ],
   "source": [
    "df[[\"age\", \"smoker\", \"sex\"]].pivot_table(values=df[[\"age\"]], \n",
    "                                         index=[grouped_age, \"sex\"], columns=[\"smoker\"], aggfunc=\"count\")"
   ]
  },
  {
   "cell_type": "markdown",
   "id": "bbdd571d",
   "metadata": {},
   "source": [
    "Non smokers are more than smokers, young people are smoking more than older ones."
   ]
  },
  {
   "cell_type": "markdown",
   "id": "360d01ef",
   "metadata": {},
   "source": [
    "### Relationship between “age”, “bmi” and “sex”"
   ]
  },
  {
   "cell_type": "code",
   "execution_count": 27,
   "id": "ab903377",
   "metadata": {},
   "outputs": [
    {
     "data": {
      "text/html": [
       "<div>\n",
       "<style scoped>\n",
       "    .dataframe tbody tr th:only-of-type {\n",
       "        vertical-align: middle;\n",
       "    }\n",
       "\n",
       "    .dataframe tbody tr th {\n",
       "        vertical-align: top;\n",
       "    }\n",
       "\n",
       "    .dataframe thead th {\n",
       "        text-align: right;\n",
       "    }\n",
       "</style>\n",
       "<table border=\"1\" class=\"dataframe\">\n",
       "  <thead>\n",
       "    <tr style=\"text-align: right;\">\n",
       "      <th></th>\n",
       "      <th>sex</th>\n",
       "      <th>female</th>\n",
       "      <th>male</th>\n",
       "    </tr>\n",
       "    <tr>\n",
       "      <th>bmi</th>\n",
       "      <th>age</th>\n",
       "      <th></th>\n",
       "      <th></th>\n",
       "    </tr>\n",
       "  </thead>\n",
       "  <tbody>\n",
       "    <tr>\n",
       "      <th rowspan=\"4\" valign=\"top\">Underweight (0-18)</th>\n",
       "      <th>Young (0-30)</th>\n",
       "      <td>6</td>\n",
       "      <td>5</td>\n",
       "    </tr>\n",
       "    <tr>\n",
       "      <th>Adult (30-40)</th>\n",
       "      <td>2</td>\n",
       "      <td>2</td>\n",
       "    </tr>\n",
       "    <tr>\n",
       "      <th>Middle Aged (40-50)</th>\n",
       "      <td>0</td>\n",
       "      <td>0</td>\n",
       "    </tr>\n",
       "    <tr>\n",
       "      <th>Old (50+)</th>\n",
       "      <td>0</td>\n",
       "      <td>0</td>\n",
       "    </tr>\n",
       "    <tr>\n",
       "      <th rowspan=\"4\" valign=\"top\">Healthy Weight (18-25)</th>\n",
       "      <th>Young (0-30)</th>\n",
       "      <td>49</td>\n",
       "      <td>44</td>\n",
       "    </tr>\n",
       "    <tr>\n",
       "      <th>Adult (30-40)</th>\n",
       "      <td>26</td>\n",
       "      <td>18</td>\n",
       "    </tr>\n",
       "    <tr>\n",
       "      <th>Middle Aged (40-50)</th>\n",
       "      <td>19</td>\n",
       "      <td>23</td>\n",
       "    </tr>\n",
       "    <tr>\n",
       "      <th>Old (50+)</th>\n",
       "      <td>29</td>\n",
       "      <td>24</td>\n",
       "    </tr>\n",
       "    <tr>\n",
       "      <th rowspan=\"4\" valign=\"top\">Overweight (25-30)</th>\n",
       "      <th>Young (0-30)</th>\n",
       "      <td>58</td>\n",
       "      <td>65</td>\n",
       "    </tr>\n",
       "    <tr>\n",
       "      <th>Adult (30-40)</th>\n",
       "      <td>44</td>\n",
       "      <td>44</td>\n",
       "    </tr>\n",
       "    <tr>\n",
       "      <th>Middle Aged (40-50)</th>\n",
       "      <td>49</td>\n",
       "      <td>42</td>\n",
       "    </tr>\n",
       "    <tr>\n",
       "      <th>Old (50+)</th>\n",
       "      <td>46</td>\n",
       "      <td>38</td>\n",
       "    </tr>\n",
       "    <tr>\n",
       "      <th rowspan=\"4\" valign=\"top\">Obesity (30+)</th>\n",
       "      <th>Young (0-30)</th>\n",
       "      <td>101</td>\n",
       "      <td>116</td>\n",
       "    </tr>\n",
       "    <tr>\n",
       "      <th>Adult (30-40)</th>\n",
       "      <td>55</td>\n",
       "      <td>66</td>\n",
       "    </tr>\n",
       "    <tr>\n",
       "      <th>Middle Aged (40-50)</th>\n",
       "      <td>72</td>\n",
       "      <td>76</td>\n",
       "    </tr>\n",
       "    <tr>\n",
       "      <th>Old (50+)</th>\n",
       "      <td>106</td>\n",
       "      <td>113</td>\n",
       "    </tr>\n",
       "  </tbody>\n",
       "</table>\n",
       "</div>"
      ],
      "text/plain": [
       "sex                                         female  male\n",
       "bmi                    age                              \n",
       "Underweight (0-18)     Young (0-30)              6     5\n",
       "                       Adult (30-40)             2     2\n",
       "                       Middle Aged (40-50)       0     0\n",
       "                       Old (50+)                 0     0\n",
       "Healthy Weight (18-25) Young (0-30)             49    44\n",
       "                       Adult (30-40)            26    18\n",
       "                       Middle Aged (40-50)      19    23\n",
       "                       Old (50+)                29    24\n",
       "Overweight (25-30)     Young (0-30)             58    65\n",
       "                       Adult (30-40)            44    44\n",
       "                       Middle Aged (40-50)      49    42\n",
       "                       Old (50+)                46    38\n",
       "Obesity (30+)          Young (0-30)            101   116\n",
       "                       Adult (30-40)            55    66\n",
       "                       Middle Aged (40-50)      72    76\n",
       "                       Old (50+)               106   113"
      ]
     },
     "execution_count": 27,
     "metadata": {},
     "output_type": "execute_result"
    }
   ],
   "source": [
    "df[[\"age\", \"bmi\", \"sex\"]].pivot_table(values=\"age\", index=[grouped_bmi, grouped_age], columns=[\"sex\"], aggfunc=\"count\")"
   ]
  },
  {
   "cell_type": "markdown",
   "id": "a69fed4b",
   "metadata": {},
   "source": [
    "Most people are in obese category "
   ]
  },
  {
   "cell_type": "markdown",
   "id": "641c2b3e",
   "metadata": {},
   "source": [
    "### Label Encoding"
   ]
  },
  {
   "cell_type": "code",
   "execution_count": 28,
   "id": "62509730",
   "metadata": {},
   "outputs": [],
   "source": [
    "clean_df=df.copy()\n",
    "\n",
    "categorical_colums=df[[\"sex\", \"smoker\", \"region\"]]\n",
    "le = LabelEncoder()\n",
    "\n",
    "for i in categorical_colums.columns:\n",
    "    clean_df[i]=le.fit_transform(clean_df[i])"
   ]
  },
  {
   "cell_type": "markdown",
   "id": "988350ae",
   "metadata": {},
   "source": [
    "### Split dataset"
   ]
  },
  {
   "cell_type": "code",
   "execution_count": 29,
   "id": "85e112fa",
   "metadata": {},
   "outputs": [],
   "source": [
    "X = clean_df.drop(['charges'], axis = 1)\n",
    "y = df['charges']"
   ]
  },
  {
   "cell_type": "code",
   "execution_count": 30,
   "id": "ec0abc7e",
   "metadata": {},
   "outputs": [],
   "source": [
    "# Split the dataset into train and test sets with 80-20 ratio\n",
    "X_train, X_test,y_train, y_test =train_test_split(X,y, test_size=0.2)"
   ]
  },
  {
   "cell_type": "markdown",
   "id": "4e33452b",
   "metadata": {},
   "source": [
    "### Scale the dataset by normalizing"
   ]
  },
  {
   "cell_type": "code",
   "execution_count": 31,
   "id": "9111bc5d",
   "metadata": {},
   "outputs": [],
   "source": [
    "# Initialize the MinMaxScaler\n",
    "scaler = MinMaxScaler()\n",
    "\n",
    "# Fit and transform the training data using the scaler to make the data between 0 and 1\n",
    "scaled_training_df = scaler.fit_transform(X_train)\n",
    "\n",
    "# Transform the test data, we use 'transform' method for scaling paramaters learned on the train data.\n",
    "scaled_test_df=scaler.transform(X_test)"
   ]
  },
  {
   "cell_type": "markdown",
   "id": "c30bc8ae",
   "metadata": {},
   "source": [
    "### Model Selection"
   ]
  },
  {
   "cell_type": "code",
   "execution_count": 90,
   "id": "6537cf10",
   "metadata": {},
   "outputs": [],
   "source": [
    "def select_best_model(models, X, y, cv=10, scoring='neg_mean_squared_error'):\n",
    "    \"\"\"\n",
    "    Selects the best model among a list of models using cross-validation and returns a DataFrame with model names and scores.\n",
    "    \n",
    "    Parameters:\n",
    "    - models (dict): A dictionary of model names as keys and model objects as values.\n",
    "    - X (array-like): The feature matrix.\n",
    "    - y (array-like): The target variable.\n",
    "    - cv (int, optional): Number of cross-validation folds (default is 5).\n",
    "    - scoring (str, optional): Scoring metric for cross-validation (default is 'neg_mean_squared_error').\n",
    "    \n",
    "    Returns:\n",
    "    - results_df (DataFrame): A DataFrame with two columns - 'Model' and 'RMSE Score'.\n",
    "    \"\"\"\n",
    "    model_names = []\n",
    "    rmse_scores = []\n",
    "    \n",
    "    for model_name, model in models.items():\n",
    "        # Perform cross-validation\n",
    "        cv_scores = cross_val_score(model, X, y, cv=cv, scoring=scoring)\n",
    "        rmse_score = np.mean(np.sqrt(np.abs(cv_scores)))\n",
    "        \n",
    "        # Append the model name and its scores to the lists\n",
    "        model_names.append(model_name)\n",
    "        rmse_scores.append(rmse_score)\n",
    "    \n",
    "    # Create a DataFrame from the lists\n",
    "    results_df = pd.DataFrame({'Model': model_names, 'RMSE Score': rmse_scores})\n",
    "    \n",
    "    return results_df"
   ]
  },
  {
   "cell_type": "code",
   "execution_count": 91,
   "id": "2b431d3b",
   "metadata": {},
   "outputs": [
    {
     "name": "stdout",
     "output_type": "stream",
     "text": [
      "Model Comparison Results:\n",
      "               Model    RMSE Score\n",
      "0  Linear Regression   5803.817392\n",
      "1   Ridge Regression   5804.508794\n",
      "2   Lasso Regression   5803.746203\n",
      "3         ElasticNet   9257.686615\n",
      "4                SVR  12689.313763\n",
      "5      Decision Tree   6508.956415\n",
      "6      Random Forest   4525.813537\n"
     ]
    }
   ],
   "source": [
    "models = {\n",
    "    'Linear Regression': LinearRegression(),\n",
    "    'Ridge Regression': Ridge(),\n",
    "    'Lasso Regression': Lasso(),\n",
    "    'ElasticNet': ElasticNet(),\n",
    "    'SVR': SVR(),\n",
    "    'Decision Tree': DecisionTreeRegressor(),\n",
    "    'Random Forest': RandomForestRegressor()\n",
    "}\n",
    "\n",
    "# Call the function to select the best model and get the results DataFrame\n",
    "results_df = select_best_model(models, X_train, y_train)\n",
    "\n",
    "print(\"Model Comparison Results:\")\n",
    "print(results_df)"
   ]
  },
  {
   "cell_type": "markdown",
   "id": "e8869051",
   "metadata": {},
   "source": [
    "A lower the Root Mean Squared Error (RMSE) indicates that the model's predictions are closer to the actual values, Random Forest is the best one."
   ]
  },
  {
   "cell_type": "markdown",
   "id": "470a420d",
   "metadata": {},
   "source": [
    "### Hyper-parameter Optimization"
   ]
  },
  {
   "cell_type": "code",
   "execution_count": 110,
   "id": "ef949ca8",
   "metadata": {},
   "outputs": [
    {
     "name": "stdout",
     "output_type": "stream",
     "text": [
      "Best Parameters: {'max_depth': 4, 'n_estimators': 30}\n",
      "Best RMSE Score: 4519.914486983382\n"
     ]
    }
   ],
   "source": [
    "# Grid Search CV\n",
    "\n",
    "random_reg = RandomForestRegressor()\n",
    "\n",
    "# Define the hyperparameters and their possible values to search over\n",
    "param_grid = {\n",
    "    'n_estimators': [10, 20, 30, 40, 50, 60],  # Number of trees in the forest\n",
    "    'max_depth': [3, 4, 5],  # Maximum depth of the trees\n",
    "}\n",
    "\n",
    "# Create the GridSearchCV object\n",
    "grid_search = GridSearchCV(estimator=random_reg, param_grid=param_grid, \n",
    "                           scoring='neg_mean_squared_error', cv=5)\n",
    "\n",
    "# Perform the grid search on your data\n",
    "grid_search.fit(X, y)\n",
    "\n",
    "# Print the best hyperparameters and corresponding score\n",
    "print(\"Best Parameters:\", grid_search.best_params_)\n",
    "print(\"Best RMSE Score:\", np.sqrt(-grid_search.best_score_))"
   ]
  },
  {
   "cell_type": "code",
   "execution_count": 111,
   "id": "83ab6040",
   "metadata": {},
   "outputs": [
    {
     "name": "stdout",
     "output_type": "stream",
     "text": [
      "5335.617382301441\n"
     ]
    }
   ],
   "source": [
    "selected_model = RandomForestRegressor(random_state=13, n_estimators=30, max_depth=4)\n",
    "final_model = selected_model.fit(X_train,y_train)\n",
    "final_model_pred = final_model.predict(X_test)\n",
    "print(math.sqrt(mean_squared_error(y_test, final_model_pred)))"
   ]
  },
  {
   "cell_type": "markdown",
   "id": "b4f05d00",
   "metadata": {},
   "source": [
    "### Model Evaluation"
   ]
  },
  {
   "cell_type": "code",
   "execution_count": 113,
   "id": "472adc63",
   "metadata": {},
   "outputs": [
    {
     "name": "stdout",
     "output_type": "stream",
     "text": [
      "Final Model Mean Squared Error 28468812.85031728\n",
      "Final Model Root Mean Squared Error 5335.617382301441\n",
      "Final Model Mean Absolute Error 2791.986817810958\n",
      "Final Model R2 Score 0.8091254645825643\n"
     ]
    }
   ],
   "source": [
    "print(\"Final Model Mean Squared Error\", mean_squared_error(y_test, final_model_pred))\n",
    "print(\"Final Model Root Mean Squared Error\", math.sqrt(mean_squared_error(y_test, final_model_pred)))\n",
    "print(\"Final Model Mean Absolute Error\", mean_absolute_error(y_test, final_model_pred))\n",
    "print(\"Final Model R2 Score\", r2_score(y_test, final_model_pred))"
   ]
  },
  {
   "cell_type": "code",
   "execution_count": null,
   "id": "bed2e539",
   "metadata": {},
   "outputs": [],
   "source": []
  }
 ],
 "metadata": {
  "kernelspec": {
   "display_name": "Python 3 (ipykernel)",
   "language": "python",
   "name": "python3"
  },
  "language_info": {
   "codemirror_mode": {
    "name": "ipython",
    "version": 3
   },
   "file_extension": ".py",
   "mimetype": "text/x-python",
   "name": "python",
   "nbconvert_exporter": "python",
   "pygments_lexer": "ipython3",
   "version": "3.11.3"
  }
 },
 "nbformat": 4,
 "nbformat_minor": 5
}
